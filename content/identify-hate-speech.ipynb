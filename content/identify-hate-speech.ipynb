{
 "cells": [
  {
   "cell_type": "markdown",
   "id": "94740893",
   "metadata": {},
   "source": [
    "> This notebook runs securely entirely in the browser with pyodide!"
   ]
  },
  {
   "cell_type": "code",
   "execution_count": null,
   "id": "3e68da82",
   "metadata": {},
   "outputs": [],
   "source": [
    "import requests\n",
    "import time"
   ]
  },
  {
   "cell_type": "markdown",
   "id": "bd94bb60",
   "metadata": {},
   "source": [
    "## Custom input parameters\n",
    "\n",
    "In this example, we'll use python to transcribe an audio file and tell it to use the `custom_prompt` input\n",
    "parameter to identify any hate speech. We'll use the following input parameters:"
   ]
  },
  {
   "cell_type": "code",
   "execution_count": null,
   "id": "f7fd1232",
   "metadata": {},
   "outputs": [],
   "source": [
    "# Fill these in with your own values\n",
    "audio_file_url = \"your_audio_file_url_here\"  # Replace with your audio file URL\n",
    "salad_api_key = \"your_salad_api_key_here\"  # Replace with your Salad API key\n",
    "organization_name = \"your_organization_name_here\" # replace with your organization name"
   ]
  },
  {
   "cell_type": "code",
   "execution_count": null,
   "id": "cac2175a",
   "metadata": {},
   "outputs": [],
   "source": [
    "url = f\"https://api.salad.com/api/public/organizations/{organization_name}/inference-endpoints/transcribe/jobs\"\n",
    "\n",
    "headers = {\n",
    "    \"Salad-Api-Key\": salad_api_key,\n",
    "    \"Content-Type\": \"application/json\"\n",
    "}\n",
    "\n",
    "payload = {\n",
    "    \"input\": {\n",
    "        \"custom_prompt\": \"Detect whether there is any hate speech in the content. respond only with a confidence rating, where low confidence means you are unsure, and a high number means you are sure, and category in the following format: 'confidence\\': x.xx, \\'category\\': \\'x\\'\",\n",
    "        \"url\": audio_file_url,\n",
    "        \"language_code\": \"en\",\n",
    "        \"return_as_file\": False\n",
    "    }\n",
    "}"
   ]
  },
  {
   "cell_type": "code",
   "execution_count": null,
   "id": "ac6286ef",
   "metadata": {},
   "outputs": [],
   "source": [
    "response = requests.post(url, json=payload, headers=headers)\n",
    "response = response.json()\n",
    "job_id=response[\"id\"]\n",
    "print (f'Job ID: {job_id}')"
   ]
  }
 ],
 "metadata": {
  "language_info": {
   "name": "python"
  }
 },
 "nbformat": 4,
 "nbformat_minor": 5
}
